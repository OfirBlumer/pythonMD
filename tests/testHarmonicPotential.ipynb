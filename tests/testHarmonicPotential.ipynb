{
 "cells": [
  {
   "cell_type": "code",
   "execution_count": 1,
   "id": "1f40c4d7-b3ab-4f2f-b683-050a24607e16",
   "metadata": {},
   "outputs": [],
   "source": [
    "from pythonMD import manager\n",
    "from unum.units import *\n",
    "import matplotlib.pyplot as plt"
   ]
  },
  {
   "cell_type": "markdown",
   "id": "f8ed25f4-3d4c-405d-9e42-e425b76d7c25",
   "metadata": {},
   "source": [
    "# test single particle in 1d\n",
    "\n",
    "## plot location"
   ]
  },
  {
   "cell_type": "code",
   "execution_count": 6,
   "id": "23951b6c-f6cb-4c3c-9684-a0fd8bb6d3c9",
   "metadata": {},
   "outputs": [
    {
     "name": "stdout",
     "output_type": "stream",
     "text": [
      "Initializing Molecular Dynamics Simulation\n",
      "Reading positions\n",
      "Calculating Momentums using  MaxwellBoltzmann\n",
      "Start running for 10000 iterations\n",
      "Timestep Temperature KineticEnergy PotentialEnergy TotalEnergy\n"
     ]
    },
    {
     "data": {
      "text/plain": [
       "[<matplotlib.lines.Line2D at 0x7eff4160c4c0>]"
      ]
     },
     "execution_count": 6,
     "metadata": {},
     "output_type": "execute_result"
    },
    {
     "data": {
      "image/png": "[encoded data removed]",
      "text/plain": [
       "<Figure size 432x288 with 1 Axes>"
      ]
     },
     "metadata": {
      "needs_background": "light"
     },
     "output_type": "display_data"
    }
   ],
   "source": [
    "myManager = manager(forces=[\"CoordsEquationPotential\"],boundariesType=None,dimensions=1)\n",
    "myManager.initialize(positions=[[5.]], masses=1e-26 * kg,\n",
    "                     temperature=0 * K, types=[1])\n",
    "data = myManager.run(10000,forceEquations=[\"-1e-5*q\"],\n",
    "                          potentialEquations=[\"5e-6*(q**2)\"],\n",
    "                          printStats=1,savePositions=1)\n",
    "plt.plot([pos[0] for pos in data[\"positions\"]])"
   ]
  },
  {
   "cell_type": "markdown",
   "id": "043dc6b4-e8f6-40af-83b3-f8266c9b0c7f",
   "metadata": {},
   "source": [
    "## Increase timestep and check energy convergence"
   ]
  },
  {
   "cell_type": "code",
   "execution_count": 15,
   "id": "eb62d451-d705-4158-a2d1-f05b69d4e958",
   "metadata": {},
   "outputs": [
    {
     "name": "stdout",
     "output_type": "stream",
     "text": [
      "Initializing Molecular Dynamics Simulation\n",
      "Reading positions\n",
      "Calculating Momentums using  MaxwellBoltzmann\n",
      "Start running for 10000 iterations\n",
      "Timestep Temperature KineticEnergy PotentialEnergy TotalEnergy\n",
      "maximum change in energy for dt=1: 1.0378359293977202e-05%\n",
      "Initializing Molecular Dynamics Simulation\n",
      "Reading positions\n",
      "Calculating Momentums using  MaxwellBoltzmann\n",
      "Start running for 10000 iterations\n",
      "Timestep Temperature KineticEnergy PotentialEnergy TotalEnergy\n",
      "maximum change in energy for dt=3: 9.340406585611249e-05%\n",
      "Initializing Molecular Dynamics Simulation\n",
      "Reading positions\n",
      "Calculating Momentums using  MaxwellBoltzmann\n",
      "Start running for 10000 iterations\n",
      "Timestep Temperature KineticEnergy PotentialEnergy TotalEnergy\n",
      "maximum change in energy for dt=5: 0.0002594492765732795%\n",
      "Initializing Molecular Dynamics Simulation\n",
      "Reading positions\n",
      "Calculating Momentums using  MaxwellBoltzmann\n",
      "Start running for 10000 iterations\n",
      "Timestep Temperature KineticEnergy PotentialEnergy TotalEnergy\n",
      "maximum change in energy for dt=7: 0.0005085015717238658%\n",
      "Initializing Molecular Dynamics Simulation\n",
      "Reading positions\n",
      "Calculating Momentums using  MaxwellBoltzmann\n",
      "Start running for 10000 iterations\n",
      "Timestep Temperature KineticEnergy PotentialEnergy TotalEnergy\n",
      "maximum change in energy for dt=9: 0.000840542369198076%\n",
      "Initializing Molecular Dynamics Simulation\n",
      "Reading positions\n",
      "Calculating Momentums using  MaxwellBoltzmann\n",
      "Start running for 10000 iterations\n",
      "Timestep Temperature KineticEnergy PotentialEnergy TotalEnergy\n",
      "maximum change in energy for dt=11: 0.001255546841963461%\n",
      "Initializing Molecular Dynamics Simulation\n",
      "Reading positions\n",
      "Calculating Momentums using  MaxwellBoltzmann\n",
      "Start running for 10000 iterations\n",
      "Timestep Temperature KineticEnergy PotentialEnergy TotalEnergy\n",
      "maximum change in energy for dt=13: 0.0017534839386989572%\n",
      "Initializing Molecular Dynamics Simulation\n",
      "Reading positions\n",
      "Calculating Momentums using  MaxwellBoltzmann\n",
      "Start running for 10000 iterations\n",
      "Timestep Temperature KineticEnergy PotentialEnergy TotalEnergy\n",
      "maximum change in energy for dt=15: 0.0023343165286388926%\n",
      "Initializing Molecular Dynamics Simulation\n",
      "Reading positions\n",
      "Calculating Momentums using  MaxwellBoltzmann\n",
      "Start running for 10000 iterations\n",
      "Timestep Temperature KineticEnergy PotentialEnergy TotalEnergy\n"
     ]
    },
    {
     "ename": "KeyboardInterrupt",
     "evalue": "",
     "output_type": "error",
     "traceback": [
      "\u001b[0;31m---------------------------------------------------------------------------\u001b[0m",
      "\u001b[0;31mKeyboardInterrupt\u001b[0m                         Traceback (most recent call last)",
      "\u001b[0;32m/tmp/ipykernel_765802/435471261.py\u001b[0m in \u001b[0;36m<module>\u001b[0;34m\u001b[0m\n\u001b[1;32m      5\u001b[0m     myManager.initialize(positions=[[5.]], masses=1e-26 * kg,\n\u001b[1;32m      6\u001b[0m                          temperature=0 * K, types=[1])\n\u001b[0;32m----> 7\u001b[0;31m     data = myManager.run(10000,forceEquations=[\"-2.5e-6*q\"],\n\u001b[0m\u001b[1;32m      8\u001b[0m                               \u001b[0mpotentialEquations\u001b[0m\u001b[0;34m=\u001b[0m\u001b[0;34m[\u001b[0m\u001b[0;34m\"1.25e-6*(q**2)\"\u001b[0m\u001b[0;34m]\u001b[0m\u001b[0;34m,\u001b[0m\u001b[0;34m\u001b[0m\u001b[0;34m\u001b[0m\u001b[0m\n\u001b[1;32m      9\u001b[0m                               printStats=1,savePositions=1)\n",
      "\u001b[0;32m~/Projects/pythonMD/manager.py\u001b[0m in \u001b[0;36mrun\u001b[0;34m(self, Niterations, savePositions, printStats, resetMethod, stopCriterion, **kwargs)\u001b[0m\n\u001b[1;32m    171\u001b[0m                     \u001b[0;32melse\u001b[0m\u001b[0;34m:\u001b[0m\u001b[0;34m\u001b[0m\u001b[0;34m\u001b[0m\u001b[0m\n\u001b[1;32m    172\u001b[0m                         \u001b[0mkineticEnergy\u001b[0m \u001b[0;34m=\u001b[0m \u001b[0;34m(\u001b[0m\u001b[0msum\u001b[0m\u001b[0;34m(\u001b[0m\u001b[0;34m[\u001b[0m\u001b[0msum\u001b[0m\u001b[0;34m(\u001b[0m\u001b[0;34m[\u001b[0m\u001b[0me\u001b[0m\u001b[0;34m**\u001b[0m\u001b[0;36m2\u001b[0m \u001b[0;32mfor\u001b[0m \u001b[0me\u001b[0m \u001b[0;32min\u001b[0m \u001b[0menergy\u001b[0m\u001b[0;34m]\u001b[0m\u001b[0;34m)\u001b[0m\u001b[0;34m**\u001b[0m\u001b[0;36m0.5\u001b[0m \u001b[0;32mfor\u001b[0m \u001b[0menergy\u001b[0m \u001b[0;32min\u001b[0m \u001b[0mkineticEnergies\u001b[0m\u001b[0;34m]\u001b[0m\u001b[0;34m)\u001b[0m\u001b[0;34m*\u001b[0m\u001b[0mU\u001b[0m\u001b[0;34m*\u001b[0m\u001b[0mANGSTROM\u001b[0m\u001b[0;34m**\u001b[0m\u001b[0;36m2\u001b[0m\u001b[0;34m*\u001b[0m\u001b[0mfs\u001b[0m\u001b[0;34m**\u001b[0m\u001b[0;34m(\u001b[0m\u001b[0;34m-\u001b[0m\u001b[0;36m2\u001b[0m\u001b[0;34m)\u001b[0m\u001b[0;34m)\u001b[0m\u001b[0;34m.\u001b[0m\u001b[0masNumber\u001b[0m\u001b[0;34m(\u001b[0m\u001b[0mJ\u001b[0m\u001b[0;34m)\u001b[0m\u001b[0;34m\u001b[0m\u001b[0;34m\u001b[0m\u001b[0m\n\u001b[0;32m--> 173\u001b[0;31m                     \u001b[0mpotentialEnergy\u001b[0m \u001b[0;34m=\u001b[0m \u001b[0;34m(\u001b[0m\u001b[0mself\u001b[0m\u001b[0;34m.\u001b[0m\u001b[0mforces\u001b[0m\u001b[0;34m.\u001b[0m\u001b[0mcalculatePotentialEnergy\u001b[0m\u001b[0;34m(\u001b[0m\u001b[0;34m**\u001b[0m\u001b[0mkwargs\u001b[0m\u001b[0;34m)\u001b[0m\u001b[0;34m*\u001b[0m\u001b[0mU\u001b[0m\u001b[0;34m*\u001b[0m\u001b[0mANGSTROM\u001b[0m\u001b[0;34m**\u001b[0m\u001b[0;36m2\u001b[0m\u001b[0;34m*\u001b[0m\u001b[0mfs\u001b[0m\u001b[0;34m**\u001b[0m\u001b[0;34m(\u001b[0m\u001b[0;34m-\u001b[0m\u001b[0;36m2\u001b[0m\u001b[0;34m)\u001b[0m\u001b[0;34m)\u001b[0m\u001b[0;34m.\u001b[0m\u001b[0masNumber\u001b[0m\u001b[0;34m(\u001b[0m\u001b[0mJ\u001b[0m\u001b[0;34m)\u001b[0m\u001b[0;34m\u001b[0m\u001b[0;34m\u001b[0m\u001b[0m\n\u001b[0m\u001b[1;32m    174\u001b[0m                     \u001b[0mT\u001b[0m \u001b[0;34m=\u001b[0m \u001b[0;36m2\u001b[0m\u001b[0;34m*\u001b[0m\u001b[0mkineticEnergy\u001b[0m\u001b[0;34m/\u001b[0m\u001b[0;34m(\u001b[0m\u001b[0;36m1.38e-23\u001b[0m\u001b[0;34m)\u001b[0m\u001b[0;34m/\u001b[0m\u001b[0mself\u001b[0m\u001b[0;34m.\u001b[0m\u001b[0mdimensions\u001b[0m\u001b[0;34m/\u001b[0m\u001b[0mself\u001b[0m\u001b[0;34m.\u001b[0m\u001b[0mN\u001b[0m\u001b[0;34m\u001b[0m\u001b[0;34m\u001b[0m\u001b[0m\n\u001b[1;32m    175\u001b[0m                     \u001b[0mTs\u001b[0m\u001b[0;34m.\u001b[0m\u001b[0mappend\u001b[0m\u001b[0;34m(\u001b[0m\u001b[0mT\u001b[0m\u001b[0;34m)\u001b[0m\u001b[0;34m,\u001b[0m\u001b[0;34m\u001b[0m\u001b[0;34m\u001b[0m\u001b[0m\n",
      "\u001b[0;32m/usr/local/lib/python3.8/dist-packages/unum/__init__.py\u001b[0m in \u001b[0;36masNumber\u001b[0;34m(self, other)\u001b[0m\n\u001b[1;32m    392\u001b[0m                 \u001b[0;32mraise\u001b[0m \u001b[0mNonBasicUnitError\u001b[0m\u001b[0;34m(\u001b[0m\u001b[0mother\u001b[0m\u001b[0;34m)\u001b[0m\u001b[0;34m\u001b[0m\u001b[0;34m\u001b[0m\u001b[0m\n\u001b[1;32m    393\u001b[0m             \u001b[0;32melse\u001b[0m\u001b[0;34m:\u001b[0m\u001b[0;34m\u001b[0m\u001b[0;34m\u001b[0m\u001b[0m\n\u001b[0;32m--> 394\u001b[0;31m                 \u001b[0ms\u001b[0m\u001b[0;34m,\u001b[0m \u001b[0mo\u001b[0m \u001b[0;34m=\u001b[0m \u001b[0mself\u001b[0m\u001b[0;34m.\u001b[0m\u001b[0mmatchUnits\u001b[0m\u001b[0;34m(\u001b[0m\u001b[0mother\u001b[0m\u001b[0;34m)\u001b[0m\u001b[0;34m\u001b[0m\u001b[0;34m\u001b[0m\u001b[0m\n\u001b[0m\u001b[1;32m    395\u001b[0m                 \u001b[0;32mreturn\u001b[0m \u001b[0ms\u001b[0m\u001b[0;34m.\u001b[0m\u001b[0m_value\u001b[0m \u001b[0;34m/\u001b[0m \u001b[0mo\u001b[0m\u001b[0;34m.\u001b[0m\u001b[0m_value\u001b[0m\u001b[0;34m\u001b[0m\u001b[0;34m\u001b[0m\u001b[0m\n\u001b[1;32m    396\u001b[0m         \u001b[0;32melse\u001b[0m\u001b[0;34m:\u001b[0m\u001b[0;34m\u001b[0m\u001b[0;34m\u001b[0m\u001b[0m\n",
      "\u001b[0;32m/usr/local/lib/python3.8/dist-packages/unum/__init__.py\u001b[0m in \u001b[0;36mmatchUnits\u001b[0;34m(self, other)\u001b[0m\n\u001b[1;32m    265\u001b[0m         \u001b[0mtarget_unum\u001b[0m \u001b[0;34m=\u001b[0m \u001b[0mUnum\u001b[0m\u001b[0;34m(\u001b[0m\u001b[0ms\u001b[0m\u001b[0;34m.\u001b[0m\u001b[0m_unit\u001b[0m\u001b[0;34m,\u001b[0m \u001b[0;36m1\u001b[0m\u001b[0;34m)\u001b[0m\u001b[0;34m\u001b[0m\u001b[0;34m\u001b[0m\u001b[0m\n\u001b[1;32m    266\u001b[0m         \u001b[0mo\u001b[0m \u001b[0;34m/=\u001b[0m \u001b[0mtarget_unum\u001b[0m\u001b[0;34m\u001b[0m\u001b[0;34m\u001b[0m\u001b[0m\n\u001b[0;32m--> 267\u001b[0;31m         \u001b[0mo\u001b[0m\u001b[0;34m.\u001b[0m\u001b[0mnormalize\u001b[0m\u001b[0;34m(\u001b[0m\u001b[0;34m)\u001b[0m\u001b[0;34m\u001b[0m\u001b[0;34m\u001b[0m\u001b[0m\n\u001b[0m\u001b[1;32m    268\u001b[0m         \u001b[0;32mif\u001b[0m \u001b[0mo\u001b[0m\u001b[0;34m.\u001b[0m\u001b[0m_unit\u001b[0m\u001b[0;34m:\u001b[0m\u001b[0;34m\u001b[0m\u001b[0;34m\u001b[0m\u001b[0m\n\u001b[1;32m    269\u001b[0m             \u001b[0;32mraise\u001b[0m \u001b[0mIncompatibleUnitsError\u001b[0m\u001b[0;34m(\u001b[0m\u001b[0mself\u001b[0m\u001b[0;34m,\u001b[0m \u001b[0mother\u001b[0m\u001b[0;34m)\u001b[0m\u001b[0;34m\u001b[0m\u001b[0;34m\u001b[0m\u001b[0m\n",
      "\u001b[0;32m/usr/local/lib/python3.8/dist-packages/unum/__init__.py\u001b[0m in \u001b[0;36mnormalize\u001b[0;34m(self, forDisplay)\u001b[0m\n\u001b[1;32m    229\u001b[0m                             \u001b[0;32mif\u001b[0m \u001b[0mis_new\u001b[0m\u001b[0;34m:\u001b[0m\u001b[0;34m\u001b[0m\u001b[0;34m\u001b[0m\u001b[0m\n\u001b[1;32m    230\u001b[0m                                 \u001b[0ms\u001b[0m \u001b[0;34m=\u001b[0m \u001b[0msubst_unum\u001b[0m\u001b[0;34m.\u001b[0m\u001b[0mreplaced\u001b[0m\u001b[0;34m(\u001b[0m\u001b[0mu\u001b[0m\u001b[0;34m,\u001b[0m \u001b[0mconv_unum\u001b[0m\u001b[0;34m)\u001b[0m\u001b[0;34m\u001b[0m\u001b[0;34m\u001b[0m\u001b[0m\n\u001b[0;32m--> 231\u001b[0;31m                                 \u001b[0mnew_subst_unums\u001b[0m\u001b[0;34m.\u001b[0m\u001b[0mappend\u001b[0m\u001b[0;34m(\u001b[0m\u001b[0;34m(\u001b[0m\u001b[0mnew_subst_dict\u001b[0m\u001b[0;34m,\u001b[0m \u001b[0ms\u001b[0m\u001b[0;34m)\u001b[0m\u001b[0;34m)\u001b[0m\u001b[0;34m\u001b[0m\u001b[0;34m\u001b[0m\u001b[0m\n\u001b[0m\u001b[1;32m    232\u001b[0m                                 \u001b[0mnew_l\u001b[0m \u001b[0;34m=\u001b[0m \u001b[0mlen\u001b[0m\u001b[0;34m(\u001b[0m\u001b[0ms\u001b[0m\u001b[0;34m.\u001b[0m\u001b[0m_unit\u001b[0m\u001b[0;34m)\u001b[0m\u001b[0;34m\u001b[0m\u001b[0;34m\u001b[0m\u001b[0m\n\u001b[1;32m    233\u001b[0m                                 \u001b[0;32mif\u001b[0m \u001b[0mnew_l\u001b[0m \u001b[0;34m<\u001b[0m \u001b[0mbest_l\u001b[0m \u001b[0;32mand\u001b[0m \u001b[0;32mnot\u001b[0m \u001b[0;34m(\u001b[0m\u001b[0mforDisplay\u001b[0m \u001b[0;32mand\u001b[0m \u001b[0mnew_l\u001b[0m \u001b[0;34m==\u001b[0m \u001b[0;36m0\u001b[0m \u001b[0;32mand\u001b[0m \u001b[0mbest_l\u001b[0m \u001b[0;34m==\u001b[0m \u001b[0;36m1\u001b[0m\u001b[0;34m)\u001b[0m\u001b[0;34m:\u001b[0m\u001b[0;34m\u001b[0m\u001b[0;34m\u001b[0m\u001b[0m\n",
      "\u001b[0;31mKeyboardInterrupt\u001b[0m: "
     ]
    }
   ],
   "source": [
    "myManager = manager(forces=[\"CoordsEquationPotential\"],boundariesType=None,dimensions=1)\n",
    "\n",
    "for dt in range(1,20,2):\n",
    "    myManager.dt = dt\n",
    "    myManager.initialize(positions=[[5.]], masses=1e-26 * kg,\n",
    "                         temperature=0 * K, types=[1])\n",
    "    data = myManager.run(10000,forceEquations=[\"-1e-5*q\"],\n",
    "                              potentialEquations=[\"5e-6*(q**2)\"],\n",
    "                              printStats=1,savePositions=1)\n",
    "    totalRelativeEnergy = [abs((energy-data[\"totalEnergy\"][0])*100/energy) for energy in data[\"totalEnergy\"]]\n",
    "    totalRelativeEnergy.sort()\n",
    "    print(f\"maximum change in energy for dt={dt}: {totalRelativeEnergy[-1]}%\")\n",
    "print(f\"start energy: {data['totalEnergy'][0]}\")"
   ]
  },
  {
   "cell_type": "markdown",
   "id": "0c6deac8-733e-47ff-8b27-7aa76647f2d1",
   "metadata": {},
   "source": [
    "## Change initial position"
   ]
  },
  {
   "cell_type": "code",
   "execution_count": 3,
   "id": "72cc9be0-9694-48b8-9dbc-3bc14bbece44",
   "metadata": {},
   "outputs": [
    {
     "name": "stdout",
     "output_type": "stream",
     "text": [
      "Initializing Molecular Dynamics Simulation\n",
      "Reading positions\n",
      "Calculating Momentums using  MaxwellBoltzmann\n",
      "Start running for 10000 iterations\n",
      "Timestep Temperature KineticEnergy PotentialEnergy TotalEnergy\n",
      "[[-1.]] [[0.99999999]]\n",
      "Initializing Molecular Dynamics Simulation\n",
      "Reading positions\n",
      "Calculating Momentums using  MaxwellBoltzmann\n",
      "Start running for 10000 iterations\n",
      "Timestep Temperature KineticEnergy PotentialEnergy TotalEnergy\n",
      "[[-2.99999999]] [[2.99999998]]\n",
      "Initializing Molecular Dynamics Simulation\n",
      "Reading positions\n",
      "Calculating Momentums using  MaxwellBoltzmann\n",
      "Start running for 10000 iterations\n",
      "Timestep Temperature KineticEnergy PotentialEnergy TotalEnergy\n",
      "[[-4.99999999]] [[4.99999996]]\n",
      "Initializing Molecular Dynamics Simulation\n",
      "Reading positions\n",
      "Calculating Momentums using  MaxwellBoltzmann\n",
      "Start running for 10000 iterations\n",
      "Timestep Temperature KineticEnergy PotentialEnergy TotalEnergy\n",
      "[[-6.99999999]] [[6.99999995]]\n",
      "Initializing Molecular Dynamics Simulation\n",
      "Reading positions\n",
      "Calculating Momentums using  MaxwellBoltzmann\n",
      "Start running for 10000 iterations\n",
      "Timestep Temperature KineticEnergy PotentialEnergy TotalEnergy\n",
      "[[-8.99999998]] [[8.99999993]]\n"
     ]
    },
    {
     "name": "stderr",
     "output_type": "stream",
     "text": [
      "IOStream.flush timed out\n",
      "IOStream.flush timed out\n"
     ]
    }
   ],
   "source": [
    "myManager = manager(forces=[\"CoordsEquationPotential\"],boundariesType=None,dimensions=1)\n",
    "\n",
    "for p in range(1,11,2):\n",
    "\n",
    "    myManager.initialize(positions=[[float(p)]], masses=1e-26 * kg,\n",
    "                         temperature=0 * K, types=[1])\n",
    "    data = myManager.run(10000,forceEquations=[\"-1e-5*q\"],\n",
    "                              potentialEquations=[\"5e-6*(q**2)\"],\n",
    "                              printStats=1,savePositions=1)\n",
    "    data[\"positions\"].sort()\n",
    "    print(data[\"positions\"][0],data[\"positions\"][-1])"
   ]
  },
  {
   "cell_type": "markdown",
   "id": "a0ece342-0422-4c1a-b999-e400c31fb224",
   "metadata": {},
   "source": [
    "# test 3 particles in 1d\n",
    "\n",
    "## plot locations"
   ]
  },
  {
   "cell_type": "code",
   "execution_count": 12,
   "id": "07334823-92dd-4c60-a959-527643580643",
   "metadata": {},
   "outputs": [
    {
     "name": "stdout",
     "output_type": "stream",
     "text": [
      "Initializing Molecular Dynamics Simulation\n",
      "Reading positions\n",
      "Calculating Momentums using  MaxwellBoltzmann\n",
      "Start running for 10000 iterations\n",
      "Timestep Temperature KineticEnergy PotentialEnergy TotalEnergy\n"
     ]
    },
    {
     "data": {
      "text/plain": [
       "[<matplotlib.lines.Line2D at 0x7eff3e6c4760>]"
      ]
     },
     "execution_count": 12,
     "metadata": {},
     "output_type": "execute_result"
    },
    {
     "data": {
      "image/png": "[encoded data removed]",
      "text/plain": [
       "<Figure size 432x288 with 1 Axes>"
      ]
     },
     "metadata": {
      "needs_background": "light"
     },
     "output_type": "display_data"
    }
   ],
   "source": [
    "myManager = manager(forces=[\"CoordsEquationPotential\"],boundariesType=None,dimensions=1)\n",
    "myManager.initialize(positions=[[5.],[-3],[1.]], masses=1e-26 * kg,\n",
    "                     temperature=0 * K, types=[1])\n",
    "data = myManager.run(10000,forceEquations=[\"-1e-5*q\"],\n",
    "                          potentialEquations=[\"5e-6*(q**2)\"],\n",
    "                          printStats=1,savePositions=1)\n",
    "# plt.plot([pos[0] for pos in data[\"positions\"]])\n",
    "first = [pos[0][0] for pos in data[\"positions\"]]\n",
    "second = [pos[1][0] for pos in data[\"positions\"]]\n",
    "third = [pos[2][0] for pos in data[\"positions\"]]\n",
    "plt.plot(first)\n",
    "plt.plot(second)\n",
    "plt.plot(third)"
   ]
  },
  {
   "cell_type": "markdown",
   "id": "f16a515d-c00a-483c-86e7-8e477a117d0b",
   "metadata": {},
   "source": [
    "## Increase timestep and check energy convergence"
   ]
  },
  {
   "cell_type": "code",
   "execution_count": 14,
   "id": "d2ca7c84-3f97-4d51-862f-c43cc650deae",
   "metadata": {},
   "outputs": [
    {
     "name": "stdout",
     "output_type": "stream",
     "text": [
      "Initializing Molecular Dynamics Simulation\n",
      "Reading positions\n",
      "Calculating Momentums using  MaxwellBoltzmann\n",
      "Start running for 10000 iterations\n",
      "Timestep Temperature KineticEnergy PotentialEnergy TotalEnergy\n",
      "maximum change in energy for dt=1: 4.1513240849534815e-05%\n",
      "Initializing Molecular Dynamics Simulation\n",
      "Reading positions\n",
      "Calculating Momentums using  MaxwellBoltzmann\n",
      "Start running for 10000 iterations\n",
      "Timestep Temperature KineticEnergy PotentialEnergy TotalEnergy\n",
      "maximum change in energy for dt=3: 0.0003736005576502777%\n",
      "Initializing Molecular Dynamics Simulation\n",
      "Reading positions\n",
      "Calculating Momentums using  MaxwellBoltzmann\n",
      "Start running for 10000 iterations\n",
      "Timestep Temperature KineticEnergy PotentialEnergy TotalEnergy\n",
      "maximum change in energy for dt=5: 0.0010376759398756667%\n",
      "Initializing Molecular Dynamics Simulation\n",
      "Reading positions\n",
      "Calculating Momentums using  MaxwellBoltzmann\n",
      "Start running for 10000 iterations\n",
      "Timestep Temperature KineticEnergy PotentialEnergy TotalEnergy\n",
      "maximum change in energy for dt=7: 0.0020335407632375976%\n",
      "Initializing Molecular Dynamics Simulation\n",
      "Reading positions\n",
      "Calculating Momentums using  MaxwellBoltzmann\n",
      "Start running for 10000 iterations\n",
      "Timestep Temperature KineticEnergy PotentialEnergy TotalEnergy\n",
      "maximum change in energy for dt=9: 0.003360897490730362%\n",
      "Initializing Molecular Dynamics Simulation\n",
      "Reading positions\n",
      "Calculating Momentums using  MaxwellBoltzmann\n",
      "Start running for 10000 iterations\n",
      "Timestep Temperature KineticEnergy PotentialEnergy TotalEnergy\n",
      "maximum change in energy for dt=11: 0.005019349488807738%\n",
      "Initializing Molecular Dynamics Simulation\n",
      "Reading positions\n",
      "Calculating Momentums using  MaxwellBoltzmann\n",
      "Start running for 10000 iterations\n",
      "Timestep Temperature KineticEnergy PotentialEnergy TotalEnergy\n",
      "maximum change in energy for dt=13: 0.007008400515984785%\n",
      "Initializing Molecular Dynamics Simulation\n",
      "Reading positions\n",
      "Calculating Momentums using  MaxwellBoltzmann\n",
      "Start running for 10000 iterations\n",
      "Timestep Temperature KineticEnergy PotentialEnergy TotalEnergy\n",
      "maximum change in energy for dt=15: 0.00932745578822416%\n",
      "Initializing Molecular Dynamics Simulation\n",
      "Reading positions\n",
      "Calculating Momentums using  MaxwellBoltzmann\n",
      "Start running for 10000 iterations\n",
      "Timestep Temperature KineticEnergy PotentialEnergy TotalEnergy\n",
      "maximum change in energy for dt=17: 0.011975821745053522%\n",
      "Initializing Molecular Dynamics Simulation\n",
      "Reading positions\n",
      "Calculating Momentums using  MaxwellBoltzmann\n",
      "Start running for 10000 iterations\n",
      "Timestep Temperature KineticEnergy PotentialEnergy TotalEnergy\n",
      "maximum change in energy for dt=19: 0.01495270666535425%\n",
      "start energy: 583.1260872794109\n"
     ]
    }
   ],
   "source": [
    "myManager = manager(forces=[\"CoordsEquationPotential\"],boundariesType=None,dimensions=1)\n",
    "\n",
    "for dt in range(1,20,2):\n",
    "    myManager.dt = dt\n",
    "    myManager.initialize(positions=[[5.],[-3],[1.]], masses=1e-26 * kg,\n",
    "                         temperature=0 * K, types=[1])\n",
    "    data = myManager.run(10000,forceEquations=[\"-1e-5*q\"],\n",
    "                              potentialEquations=[\"5e-6*(q**2)\"],\n",
    "                              printStats=1,savePositions=1)\n",
    "    totalRelativeEnergy = [abs((energy-data[\"totalEnergy\"][0])*100/energy) for energy in data[\"totalEnergy\"]]\n",
    "    totalRelativeEnergy.sort()\n",
    "    print(f\"maximum change in energy for dt={dt}: {totalRelativeEnergy[-1]}%\")\n",
    "print(f\"start energy: {data['totalEnergy'][0]}\")"
   ]
  },
  {
   "cell_type": "markdown",
   "id": "22239d8f-3c9d-407d-b541-6c2769a574bf",
   "metadata": {},
   "source": [
    "# test single particle in 3d\n",
    "\n",
    "## plot location"
   ]
  },
  {
   "cell_type": "code",
   "execution_count": 29,
   "id": "f93926da-50e1-40be-80a9-a09b92c55df3",
   "metadata": {},
   "outputs": [
    {
     "name": "stdout",
     "output_type": "stream",
     "text": [
      "Initializing Molecular Dynamics Simulation\n",
      "Reading positions\n",
      "Calculating Momentums using  MaxwellBoltzmann\n",
      "Start running for 10000 iterations\n",
      "Timestep Temperature KineticEnergy PotentialEnergy TotalEnergy\n"
     ]
    },
    {
     "data": {
      "text/plain": [
       "[<matplotlib.lines.Line2D at 0x7eff41433910>,\n",
       " <matplotlib.lines.Line2D at 0x7eff41433940>,\n",
       " <matplotlib.lines.Line2D at 0x7eff41433520>]"
      ]
     },
     "execution_count": 29,
     "metadata": {},
     "output_type": "execute_result"
    },
    {
     "data": {
      "image/png": "[encoded data removed]",
      "text/plain": [
       "<Figure size 432x288 with 1 Axes>"
      ]
     },
     "metadata": {
      "needs_background": "light"
     },
     "output_type": "display_data"
    }
   ],
   "source": [
    "myManager = manager(forces=[\"CoordsEquationPotential\"],boundariesType=None,dimensions=3)\n",
    "myManager.initialize(positions=[[5.,-1.,3.]], masses=1e-26 * kg,\n",
    "                     temperature=0 * K, types=[1])\n",
    "data = myManager.run(10000,forceEquations=[\"-1e-5*q\",\"-4e-5*q\",\"-2.5e-6*q\"],\n",
    "                          potentialEquations=[\"5e-6*(q**2)\",\"2e-5*(q**2)\",\"1.25e-6*(q**2)\"],\n",
    "                          printStats=1,savePositions=1)\n",
    "plt.plot([pos[0] for pos in data[\"positions\"]])"
   ]
  },
  {
   "cell_type": "markdown",
   "id": "80beafaf-8977-4c52-9e63-e2d8e8eee5ee",
   "metadata": {},
   "source": [
    "## Increase timestep and check energy convergence"
   ]
  },
  {
   "cell_type": "code",
   "execution_count": 3,
   "id": "f6223551-361e-409b-aeef-4bbf62ac2af3",
   "metadata": {},
   "outputs": [
    {
     "name": "stdout",
     "output_type": "stream",
     "text": [
      "Initializing Molecular Dynamics Simulation\n",
      "Reading positions\n",
      "Calculating Momentums using  MaxwellBoltzmann\n",
      "Start running for 10000 iterations\n",
      "Timestep Temperature KineticEnergy PotentialEnergy TotalEnergy\n",
      "maximum change in energy for dt=1: 4.168301517854612e-05%\n",
      "Initializing Molecular Dynamics Simulation\n",
      "Reading positions\n",
      "Calculating Momentums using  MaxwellBoltzmann\n",
      "Start running for 10000 iterations\n",
      "Timestep Temperature KineticEnergy PotentialEnergy TotalEnergy\n",
      "maximum change in energy for dt=3: 0.0003751071335931079%\n",
      "Initializing Molecular Dynamics Simulation\n",
      "Reading positions\n",
      "Calculating Momentums using  MaxwellBoltzmann\n",
      "Start running for 10000 iterations\n",
      "Timestep Temperature KineticEnergy PotentialEnergy TotalEnergy\n",
      "maximum change in energy for dt=5: 0.001041827474907933%\n",
      "Initializing Molecular Dynamics Simulation\n",
      "Reading positions\n",
      "Calculating Momentums using  MaxwellBoltzmann\n",
      "Start running for 10000 iterations\n",
      "Timestep Temperature KineticEnergy PotentialEnergy TotalEnergy\n",
      "maximum change in energy for dt=7: 0.0020420119207523375%\n",
      "Initializing Molecular Dynamics Simulation\n",
      "Reading positions\n",
      "Calculating Momentums using  MaxwellBoltzmann\n",
      "Start running for 10000 iterations\n",
      "Timestep Temperature KineticEnergy PotentialEnergy TotalEnergy\n",
      "maximum change in energy for dt=9: 0.0033759929722873673%\n",
      "Initializing Molecular Dynamics Simulation\n",
      "Reading positions\n",
      "Calculating Momentums using  MaxwellBoltzmann\n",
      "Start running for 10000 iterations\n",
      "Timestep Temperature KineticEnergy PotentialEnergy TotalEnergy\n",
      "maximum change in energy for dt=11: 0.0050452498698408624%\n",
      "Initializing Molecular Dynamics Simulation\n",
      "Reading positions\n",
      "Calculating Momentums using  MaxwellBoltzmann\n",
      "Start running for 10000 iterations\n",
      "Timestep Temperature KineticEnergy PotentialEnergy TotalEnergy\n",
      "maximum change in energy for dt=13: 0.007052071873388893%\n",
      "Initializing Molecular Dynamics Simulation\n",
      "Reading positions\n",
      "Calculating Momentums using  MaxwellBoltzmann\n",
      "Start running for 10000 iterations\n",
      "Timestep Temperature KineticEnergy PotentialEnergy TotalEnergy\n",
      "maximum change in energy for dt=15: 0.009400313691457574%\n",
      "Initializing Molecular Dynamics Simulation\n",
      "Reading positions\n",
      "Calculating Momentums using  MaxwellBoltzmann\n",
      "Start running for 10000 iterations\n",
      "Timestep Temperature KineticEnergy PotentialEnergy TotalEnergy\n",
      "maximum change in energy for dt=17: 0.012093671018207372%\n",
      "Initializing Molecular Dynamics Simulation\n",
      "Reading positions\n",
      "Calculating Momentums using  MaxwellBoltzmann\n",
      "Start running for 10000 iterations\n",
      "Timestep Temperature KineticEnergy PotentialEnergy TotalEnergy\n",
      "maximum change in energy for dt=19: 0.015143585093980705%\n",
      "start energy: 1561.9438402300084\n"
     ]
    }
   ],
   "source": [
    "myManager = manager(forces=[\"CoordsEquationPotential\"],boundariesType=None,dimensions=3)\n",
    "\n",
    "for dt in range(1,20,2):\n",
    "    myManager.dt = dt\n",
    "    myManager.initialize(positions=[[5.,-1.,3.]], masses=1e-26 * kg,\n",
    "                         temperature=0 * K, types=[1])\n",
    "    data = myManager.run(10000,forceEquations=[\"-1e-5*q\",\"-4e-5*q\",\"-2.5e-6*q\"],\n",
    "                              potentialEquations=[\"5e-6*(q**2)\",\"2e-5*(q**2)\",\"1.25e-6*(q**2)\"],\n",
    "                              printStats=1,savePositions=1)\n",
    "    totalRelativeEnergy = [abs((energy-data[\"totalEnergy\"][0])*100/energy) for energy in data[\"totalEnergy\"]]\n",
    "    totalRelativeEnergy.sort()\n",
    "    print(f\"maximum change in energy for dt={dt}: {totalRelativeEnergy[-1]}%\")\n",
    "print(f\"start energy: {data['totalEnergy'][0]}\")"
   ]
  }
 ],
 "metadata": {
  "kernelspec": {
   "display_name": "Python 3 (ipykernel)",
   "language": "python",
   "name": "python3"
  },
  "language_info": {
   "codemirror_mode": {
    "name": "ipython",
    "version": 3
   },
   "file_extension": ".py",
   "mimetype": "text/x-python",
   "name": "python",
   "nbconvert_exporter": "python",
   "pygments_lexer": "ipython3",
   "version": "3.8.10"
  }
 },
 "nbformat": 4,
 "nbformat_minor": 5
}
