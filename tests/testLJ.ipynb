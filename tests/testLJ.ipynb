{
 "cells": [
  {
   "cell_type": "code",
   "execution_count": 2,
   "id": "f2eb681f-b5cb-47de-9671-0555630bcc03",
   "metadata": {},
   "outputs": [],
   "source": [
    "from pythonMD import manager\n",
    "from unum.units import *\n",
    "import matplotlib.pyplot as plt"
   ]
  },
  {
   "cell_type": "markdown",
   "id": "31007cde-a304-4e75-bd30-fc4fc7d4e305",
   "metadata": {},
   "source": [
    "# Test Lennard-Jones\n",
    "## Increase timestep and check energy convergence"
   ]
  },
  {
   "cell_type": "code",
   "execution_count": 5,
   "id": "3506d51f-8fe4-4724-b97c-265cb8bf6c92",
   "metadata": {},
   "outputs": [
    {
     "name": "stdout",
     "output_type": "stream",
     "text": [
      "Initializing Molecular Dynamics Simulation\n",
      "Reading positions\n",
      "Reading 32 atoms\n",
      "Calculating Momentums using  MaxwellBoltzmann\n",
      "Start running for 1000 iterations\n",
      "Timestep Temperature KineticEnergy PotentialEnergy TotalEnergy\n",
      "100 240.10829091018545 2992.085456348185 -10580.15807377056 -7588.0726174223755\n",
      "200 162.96242528170677 2030.7399664054608 -8657.43179399096 -6626.6918275855\n",
      "300 181.67766769773652 2263.958088248574 -9123.806253742547 -6859.8481654939715\n",
      "400 160.42278034648913 1999.0924350097398 -8594.104743092108 -6595.01230808237\n",
      "500 175.52684879393107 2187.3102735606926 -8970.591764452005 -6783.281490891312\n",
      "600 190.3707080402146 2372.28554117233 -9340.592225516348 -6968.306684344018\n",
      "700 165.44018673657826 2061.6163429991966 -8719.208932835587 -6657.59258983639\n",
      "800 165.97540012502506 2068.285851117987 -8732.513162527654 -6664.227311409668\n",
      "900 150.9563505560688 1881.1274668193957 -8358.167224564451 -6477.039757745055\n"
     ]
    }
   ],
   "source": [
    "myManager = manager(forces=[\"LJ\"],boundaries=[11.3,11.3,11.3],dimensions=3)\n",
    "\n",
    "# for dt in range(1,20,2):\n",
    "#     myManager.dt = 0.01*dt\n",
    "myManager.initialize(positions=\"coord_ex.xyz\",masses=40*U,temperature=298*K)\n",
    "data = myManager.run(1000,LJ={\"Ar-Ar\":{\"sigma\":3.4*ANGSTROM,\"epsilon\": 1.656778224E-21*J}},saveStats=1,savePositions=1,printStats=100)\n",
    "totalRelativeEnergy = [abs((energy-data[\"totalEnergy\"][0])*100/energy) for energy in data[\"totalEnergy\"]]\n",
    "totalRelativeEnergy.sort()\n",
    "# print(f\"maximum change in energy for dt={dt}: {totalRelativeEnergy[-1]}%\")"
   ]
  },
  {
   "cell_type": "code",
   "execution_count": 6,
   "id": "b9b0b5b9-7eeb-4d9c-9110-db58d58b9bed",
   "metadata": {},
   "outputs": [],
   "source": [
    "xyz=myManager.makePositionsFile(data[\"positions\"],\"testArgon.xyz\")"
   ]
  },
  {
   "cell_type": "code",
   "execution_count": null,
   "id": "4e648cbe-8da0-4161-b6f7-300c7d729770",
   "metadata": {},
   "outputs": [],
   "source": []
  }
 ],
 "metadata": {
  "kernelspec": {
   "display_name": "Python 3 (ipykernel)",
   "language": "python",
   "name": "python3"
  },
  "language_info": {
   "codemirror_mode": {
    "name": "ipython",
    "version": 3
   },
   "file_extension": ".py",
   "mimetype": "text/x-python",
   "name": "python",
   "nbconvert_exporter": "python",
   "pygments_lexer": "ipython3",
   "version": "3.8.10"
  }
 },
 "nbformat": 4,
 "nbformat_minor": 5
}
